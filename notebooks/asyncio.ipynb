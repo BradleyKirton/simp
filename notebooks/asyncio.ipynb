{
 "cells": [
  {
   "cell_type": "code",
   "execution_count": 8,
   "id": "6474ba27-0310-4d3f-b4bf-b9ebca5ecbd9",
   "metadata": {},
   "outputs": [
    {
     "name": "stdout",
     "output_type": "stream",
     "text": [
      "1\n",
      "2\n"
     ]
    }
   ],
   "source": [
    "import asyncio\n",
    "\n",
    "all_tasks = asyncio.all_tasks()\n",
    "print(len(all_tasks))\n",
    "\n",
    "task = asyncio.create_task(asyncio.sleep(0.200))\n",
    "\n",
    "all_tasks = asyncio.all_tasks()\n",
    "print(len(all_tasks))"
   ]
  },
  {
   "cell_type": "code",
   "execution_count": 9,
   "id": "95e97cb5-fcd5-4453-8f82-e672f64e944a",
   "metadata": {},
   "outputs": [
    {
     "data": {
      "text/plain": [
       "2"
      ]
     },
     "execution_count": 9,
     "metadata": {},
     "output_type": "execute_result"
    }
   ],
   "source": [
    "all_tasks = asyncio.all_tasks()\n",
    "len(all_tasks)"
   ]
  },
  {
   "cell_type": "code",
   "execution_count": 10,
   "id": "b486f14e-5d3f-4aed-a814-80472588a4b5",
   "metadata": {},
   "outputs": [],
   "source": [
    "await task"
   ]
  },
  {
   "cell_type": "code",
   "execution_count": 11,
   "id": "8de50228-324b-4d05-9791-331b896d3da2",
   "metadata": {},
   "outputs": [
    {
     "data": {
      "text/plain": [
       "1"
      ]
     },
     "execution_count": 11,
     "metadata": {},
     "output_type": "execute_result"
    }
   ],
   "source": [
    "all_tasks = asyncio.all_tasks()\n",
    "len(all_tasks)"
   ]
  },
  {
   "cell_type": "code",
   "execution_count": null,
   "id": "1adc68ce-7c2b-4a65-84f2-c2c3c248fa8a",
   "metadata": {},
   "outputs": [],
   "source": []
  }
 ],
 "metadata": {
  "kernelspec": {
   "display_name": "Python 3 (ipykernel)",
   "language": "python",
   "name": "python3"
  },
  "language_info": {
   "codemirror_mode": {
    "name": "ipython",
    "version": 3
   },
   "file_extension": ".py",
   "mimetype": "text/x-python",
   "name": "python",
   "nbconvert_exporter": "python",
   "pygments_lexer": "ipython3",
   "version": "3.13.5"
  }
 },
 "nbformat": 4,
 "nbformat_minor": 5
}
